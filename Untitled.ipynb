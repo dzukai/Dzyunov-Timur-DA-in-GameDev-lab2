{
 "cells": [
  {
   "cell_type": "code",
   "execution_count": 10,
   "id": "e96d4f87",
   "metadata": {},
   "outputs": [
    {
     "name": "stdout",
     "output_type": "stream",
     "text": [
      "12,889243754990304\n",
      "-21,71365060119228\n",
      "-72,3541559112029\n",
      "133,09990662931838\n",
      "81,49409172841979\n",
      "-30,037519311410282\n",
      "10,362776025236593\n",
      "-70,78748034872088\n",
      "272,06457925636005\n",
      "-45,52268244575937\n",
      "111,60994448467294\n"
     ]
    }
   ],
   "source": [
    "import gspread\n",
    "import numpy as np\n",
    "gc = gspread.service_account(filename='dark-rarity-405611-a7ee63fa29f1.json')\n",
    "sh = gc.open(\"UnityWorkshop2\")\n",
    "price = np.random.randint(2000, 10000, 11)\n",
    "mon = list(range(1,11))\n",
    "i = 0\n",
    "while i <= len(mon):\n",
    "    i += 1\n",
    "    if i == 0:\n",
    "        continue\n",
    "    else:\n",
    "        tempInf = ((price[i-1]-price[i-2])/price[i-2])*100\n",
    "        tempInf = str(tempInf)\n",
    "        tempInf = tempInf.replace('.',',')\n",
    "        sh.sheet1.update(('A' + str(i)), str(i))\n",
    "        sh.sheet1.update(('B' + str(i)), str(price[i-1]))\n",
    "        sh.sheet1.update(('C' + str(i)), str(tempInf))\n",
    "        print(tempInf)"
   ]
  },
  {
   "cell_type": "code",
   "execution_count": null,
   "id": "cd668647",
   "metadata": {},
   "outputs": [],
   "source": []
  },
  {
   "cell_type": "code",
   "execution_count": null,
   "id": "32d3696c",
   "metadata": {},
   "outputs": [],
   "source": []
  }
 ],
 "metadata": {
  "kernelspec": {
   "display_name": "Python 3 (ipykernel)",
   "language": "python",
   "name": "python3"
  },
  "language_info": {
   "codemirror_mode": {
    "name": "ipython",
    "version": 3
   },
   "file_extension": ".py",
   "mimetype": "text/x-python",
   "name": "python",
   "nbconvert_exporter": "python",
   "pygments_lexer": "ipython3",
   "version": "3.11.5"
  }
 },
 "nbformat": 4,
 "nbformat_minor": 5
}
